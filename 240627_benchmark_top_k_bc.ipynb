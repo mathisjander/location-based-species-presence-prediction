{
 "cells": [
  {
   "cell_type": "code",
   "execution_count": 11,
   "metadata": {},
   "outputs": [],
   "source": [
    "import numpy as np\n",
    "import pandas as pd\n",
    "from sklearn.model_selection import train_test_split\n",
    "from sklearn.svm import SVC\n",
    "from sklearn.model_selection import cross_val_score\n",
    "from imblearn.under_sampling import RandomUnderSampler\n",
    "from sklearn.preprocessing import StandardScaler\n",
    "from xgboost import XGBClassifier\n",
    "import pandas as pd\n",
    "import numpy as np\n",
    "from tqdm import tqdm\n",
    "from bench_utils import *"
   ]
  },
  {
   "cell_type": "code",
   "execution_count": 12,
   "metadata": {},
   "outputs": [
    {
     "data": {
      "text/plain": [
       "array([ 491140,  658107,  224167, ..., 2388091, 3554093, 3552189])"
      ]
     },
     "execution_count": 12,
     "metadata": {},
     "output_type": "execute_result"
    }
   ],
   "source": [
    "# define n iterations\n",
    "n = 5\n",
    "\n",
    "# load metadata\n",
    "\n",
    "metadata = pd.read_csv('../data/l1/GLC24_PA_metadata_train.csv')\n",
    "\n",
    "# get survey ids\n",
    "survey_ids = metadata['surveyId'].unique()\n",
    "survey_ids\n",
    "\n",
    "# define train ratio\n",
    "train_ratio = 0.8\n",
    "\n",
    "# shuffle survey ids\n",
    "\n",
    "\n",
    "def get_train_val_survey_ids(survey_ids, train_ratio):\n",
    "    \n",
    "    # shuffle survey ids\n",
    "    np.random.shuffle(survey_ids)\n",
    "    # split survey ids into train and val\n",
    "    n_train = int(train_ratio * len(survey_ids))\n",
    "    train_survey_ids = survey_ids[:n_train]\n",
    "    val_survey_ids = survey_ids[n_train:]\n",
    "    return train_survey_ids, val_survey_ids\n",
    "\n",
    "# get train and val survey ids\n",
    "train_survey_ids, val_survey_ids = get_train_val_survey_ids(survey_ids, train_ratio)\n",
    "\n",
    "train_survey_ids"
   ]
  },
  {
   "cell_type": "code",
   "execution_count": 13,
   "metadata": {},
   "outputs": [
    {
     "data": {
      "text/plain": [
       "(88987, 46)"
      ]
     },
     "execution_count": 13,
     "metadata": {},
     "output_type": "execute_result"
    }
   ],
   "source": [
    "# group by surveyId and aggregate speciesId into list\n",
    "metadata_grouped = metadata.groupby('surveyId')['speciesId'].apply(list).reset_index()\n",
    "\n",
    "# create X\n",
    "\n",
    "X_raster = pd.read_csv('../data/l2/raster_data.csv', header=None)\n",
    "X = X_raster.iloc[:,1:].to_numpy()\n",
    "X.shape\n",
    "\n",
    "scaler = StandardScaler()\n",
    "X = scaler.fit_transform(X)\n",
    "X.shape"
   ]
  },
  {
   "cell_type": "code",
   "execution_count": 14,
   "metadata": {},
   "outputs": [
    {
     "data": {
      "text/plain": [
       "Index([  540,  4397,   254,  4499, 10317,  2885,  1964, 10600, 10073, 11140,\n",
       "       ...\n",
       "        4953, 10045,  9210, 11065,   345,  8312,  8381,  7572,  9807,  8119],\n",
       "      dtype='int64', name='speciesId', length=5016)"
      ]
     },
     "execution_count": 14,
     "metadata": {},
     "output_type": "execute_result"
    }
   ],
   "source": [
    "# create speciesIds ranked\n",
    "\n",
    "speciesIds_ranked = metadata['speciesId'].value_counts().index\n",
    "\n",
    "# change data type to int\n",
    "\n",
    "speciesIds_ranked = speciesIds_ranked.astype(int)\n",
    "\n",
    "speciesIds_ranked"
   ]
  },
  {
   "cell_type": "code",
   "execution_count": 15,
   "metadata": {},
   "outputs": [
    {
     "name": "stderr",
     "output_type": "stream",
     "text": [
      "100%|██████████| 10/10 [00:29<00:00,  2.97s/it]\n",
      "/var/folders/zl/cd3hr9dn1lz7c18kq8r1dq3w0000gn/T/ipykernel_90025/359153041.py:57: RuntimeWarning: invalid value encountered in divide\n",
      "  f1 = 2 * TP / (2 * TP + FP + FN)\n"
     ]
    },
    {
     "name": "stdout",
     "output_type": "stream",
     "text": [
      "Iteration 1 micro f1 score: 0.4380274783213316\n"
     ]
    },
    {
     "name": "stderr",
     "output_type": "stream",
     "text": [
      "100%|██████████| 10/10 [00:33<00:00,  3.40s/it]\n",
      "/var/folders/zl/cd3hr9dn1lz7c18kq8r1dq3w0000gn/T/ipykernel_90025/359153041.py:57: RuntimeWarning: invalid value encountered in divide\n",
      "  f1 = 2 * TP / (2 * TP + FP + FN)\n"
     ]
    },
    {
     "name": "stdout",
     "output_type": "stream",
     "text": [
      "Iteration 2 micro f1 score: 0.43763470784624847\n"
     ]
    },
    {
     "name": "stderr",
     "output_type": "stream",
     "text": [
      "100%|██████████| 10/10 [00:33<00:00,  3.34s/it]\n",
      "/var/folders/zl/cd3hr9dn1lz7c18kq8r1dq3w0000gn/T/ipykernel_90025/359153041.py:57: RuntimeWarning: invalid value encountered in divide\n",
      "  f1 = 2 * TP / (2 * TP + FP + FN)\n"
     ]
    },
    {
     "name": "stdout",
     "output_type": "stream",
     "text": [
      "Iteration 3 micro f1 score: 0.434562352095221\n"
     ]
    },
    {
     "name": "stderr",
     "output_type": "stream",
     "text": [
      "100%|██████████| 10/10 [00:31<00:00,  3.19s/it]\n",
      "/var/folders/zl/cd3hr9dn1lz7c18kq8r1dq3w0000gn/T/ipykernel_90025/359153041.py:57: RuntimeWarning: invalid value encountered in divide\n",
      "  f1 = 2 * TP / (2 * TP + FP + FN)\n"
     ]
    },
    {
     "name": "stdout",
     "output_type": "stream",
     "text": [
      "Iteration 4 micro f1 score: 0.4384257989578812\n"
     ]
    },
    {
     "name": "stderr",
     "output_type": "stream",
     "text": [
      "100%|██████████| 10/10 [00:30<00:00,  3.08s/it]"
     ]
    },
    {
     "name": "stdout",
     "output_type": "stream",
     "text": [
      "Iteration 5 micro f1 score: 0.43659488087794635\n",
      "Average micro f1 score: 0.43704904361972574\n"
     ]
    },
    {
     "name": "stderr",
     "output_type": "stream",
     "text": [
      "\n",
      "/var/folders/zl/cd3hr9dn1lz7c18kq8r1dq3w0000gn/T/ipykernel_90025/359153041.py:57: RuntimeWarning: invalid value encountered in divide\n",
      "  f1 = 2 * TP / (2 * TP + FP + FN)\n"
     ]
    }
   ],
   "source": [
    "# loop over speciesIds_ranked and create a model for each speciesId\n",
    "\n",
    "f1s = []\n",
    "\n",
    "for i in range(n):\n",
    "\n",
    "    models_raster = {}\n",
    "    top_k = 10\n",
    "    y_preds_raster = {}\n",
    "    y_trues_raster = {}\n",
    "    cv_scores_raster = []\n",
    "\n",
    "    for species_id in tqdm(speciesIds_ranked[:top_k]):\n",
    "\n",
    "        # prepare X and y\n",
    "        y = metadata_grouped['speciesId'].apply(lambda x: 1 if species_id in x else 0).to_numpy()\n",
    "        X_train, X_val, y_train, y_val = train_test_split(X, y, test_size=1-train_ratio) # no test data needed as all data is training data and CV is used\n",
    "\n",
    "        # undersample train data\n",
    "        rus = RandomUnderSampler()\n",
    "        X_train, y_train = rus.fit_resample(X_train, y_train)\n",
    "\n",
    "        # train species classifier\n",
    "        xgb = XGBClassifier()\n",
    "        xgb.fit(X_train, y_train)\n",
    "\n",
    "        # cross validation\n",
    "        cv_score = cross_val_score(xgb, X_train, y_train, cv=5, scoring='f1').mean()\n",
    "        cv_scores_raster.append(cv_score)\n",
    "        \n",
    "        # print f1 score\n",
    "        #print(f'{species_id} f1 score: {cv_score}')\n",
    "\n",
    "        # save model\n",
    "        models_raster[species_id] = xgb\n",
    "\n",
    "        # predict on test data\n",
    "        y_pred = xgb.predict(X_val)\n",
    "\n",
    "        # save true values\n",
    "        y_trues_raster[species_id] = y_val\n",
    "\n",
    "        # save results\n",
    "        y_preds_raster[species_id] = y_pred\n",
    "\n",
    "\n",
    "    # compute f1 score for each iteration\n",
    "    y_preds_raster = pd.DataFrame(y_preds_raster).values\n",
    "\n",
    "    y_trues_raster = pd.DataFrame(y_trues_raster).values\n",
    "\n",
    "    TP = (y_trues_raster & y_preds_raster).sum(axis=1)  # True Positives per sample\n",
    "    FP = (y_trues_raster & ~y_preds_raster).sum(axis=1)  # False Positives per sample\n",
    "    FN = (~y_trues_raster & y_preds_raster).sum(axis=1)  # False Negatives per sample\n",
    "\n",
    "    # compute f1 score for each sample\n",
    "    f1 = 2 * TP / (2 * TP + FP + FN)\n",
    "\n",
    "    # Handle division by zero\n",
    "    f1 = np.nan_to_num(f1)\n",
    "\n",
    "    # compute micro-average f1 score\n",
    "    micro_f1 = np.mean(f1)\n",
    "\n",
    "    f1s.append(micro_f1)\n",
    "\n",
    "    print(f'Iteration {i+1} micro f1 score: {micro_f1}')\n",
    "\n",
    "print(f'Average micro f1 score: {np.mean(f1s)}')\n",
    "\n",
    "\n"
   ]
  },
  {
   "cell_type": "code",
   "execution_count": 16,
   "metadata": {},
   "outputs": [
    {
     "data": {
      "text/plain": [
       "[0.4380274783213316,\n",
       " 0.43763470784624847,\n",
       " 0.434562352095221,\n",
       " 0.4384257989578812,\n",
       " 0.43659488087794635]"
      ]
     },
     "execution_count": 16,
     "metadata": {},
     "output_type": "execute_result"
    }
   ],
   "source": [
    "f1s"
   ]
  },
  {
   "cell_type": "code",
   "execution_count": 17,
   "metadata": {},
   "outputs": [],
   "source": [
    "# save results with timestamp\n",
    "\n",
    "import datetime\n",
    "\n",
    "now = datetime.datetime.now()\n",
    "timestamp = now.strftime('%Y-%m-%d_%H-%M-%S')\n",
    "\n",
    "results = pd.DataFrame(f1s, columns=['top_k_bc_f1'])\n",
    "results.to_csv(f'{timestamp}_top_k_bc_benchmark_results_{n}.csv', index=False)"
   ]
  }
 ],
 "metadata": {
  "kernelspec": {
   "display_name": "clef2024-gnn",
   "language": "python",
   "name": "python3"
  },
  "language_info": {
   "codemirror_mode": {
    "name": "ipython",
    "version": 3
   },
   "file_extension": ".py",
   "mimetype": "text/x-python",
   "name": "python",
   "nbconvert_exporter": "python",
   "pygments_lexer": "ipython3",
   "version": "3.10.13"
  }
 },
 "nbformat": 4,
 "nbformat_minor": 2
}
